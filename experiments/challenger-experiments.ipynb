{
 "cells": [
  {
   "cell_type": "markdown",
   "id": "2c3b906e",
   "metadata": {},
   "source": [
    "# Tarea MLFlow & Databricks\n",
    "\n",
    "---"
   ]
  },
  {
   "cell_type": "code",
   "execution_count": null,
   "id": "9a6a8a02",
   "metadata": {},
   "outputs": [],
   "source": [
    "import os, mlflow\n",
    "import pickle\n",
    "import pandas as pd\n",
    "from sklearn.metrics import  root_mean_squared_error\n",
    "from sklearn.feature_extraction import  DictVectorizer"
   ]
  }
 ],
 "metadata": {
  "kernelspec": {
   "display_name": "nyc-taxi-predictions-2025",
   "language": "python",
   "name": "python3"
  },
  "language_info": {
   "name": "python",
   "version": "3.11.5"
  }
 },
 "nbformat": 4,
 "nbformat_minor": 5
}
